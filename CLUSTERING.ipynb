{
 "cells": [
  {
   "cell_type": "markdown",
   "id": "0c30a90f-db23-4649-8ad6-f96d8d74fda3",
   "metadata": {},
   "source": [
    "# Importing libraries"
   ]
  },
  {
   "cell_type": "code",
   "execution_count": 1,
   "id": "adf034c0-aa51-4632-94b3-4d94a0051fb1",
   "metadata": {},
   "outputs": [],
   "source": [
    "import numpy as np\n",
    "import pandas as pd\n",
    "import seaborn as sns\n",
    "import matplotlib.pyplot as plt\n",
    "%matplotlib inline\n",
    "import warnings\n",
    "warnings.filterwarnings('ignore')"
   ]
  },
  {
   "cell_type": "markdown",
   "id": "046325ba-38d1-436c-9688-755f5810d80f",
   "metadata": {},
   "source": [
    "# Loading data"
   ]
  },
  {
   "cell_type": "code",
   "execution_count": 4,
   "id": "5bc1c1c2-5715-43f5-b00d-66b0a0c85b8d",
   "metadata": {},
   "outputs": [],
   "source": [
    "#df_class=pd.read_csv(\"/content/survey_data.csv\")\n",
    "df_class=pd.read_csv(\"KMEANS_SAMPLE.csv\")"
   ]
  },
  {
   "cell_type": "code",
   "execution_count": 5,
   "id": "08ea3f24-6fe3-40a6-a62e-dc6288a4aa73",
   "metadata": {},
   "outputs": [
    {
     "data": {
      "text/html": [
       "<div>\n",
       "<style scoped>\n",
       "    .dataframe tbody tr th:only-of-type {\n",
       "        vertical-align: middle;\n",
       "    }\n",
       "\n",
       "    .dataframe tbody tr th {\n",
       "        vertical-align: top;\n",
       "    }\n",
       "\n",
       "    .dataframe thead th {\n",
       "        text-align: right;\n",
       "    }\n",
       "</style>\n",
       "<table border=\"1\" class=\"dataframe\">\n",
       "  <thead>\n",
       "    <tr style=\"text-align: right;\">\n",
       "      <th></th>\n",
       "      <th>gender</th>\n",
       "      <th>NationalITy</th>\n",
       "      <th>PlaceofBirth</th>\n",
       "      <th>StageID</th>\n",
       "      <th>GradeID</th>\n",
       "      <th>SectionID</th>\n",
       "      <th>Topic</th>\n",
       "      <th>Semester</th>\n",
       "      <th>Relation</th>\n",
       "      <th>raisedhands</th>\n",
       "      <th>VisITedResources</th>\n",
       "      <th>AnnouncementsView</th>\n",
       "      <th>Discussion</th>\n",
       "      <th>ParentAnsweringSurvey</th>\n",
       "      <th>ParentschoolSatisfaction</th>\n",
       "      <th>StudentAbsenceDays</th>\n",
       "      <th>Class</th>\n",
       "    </tr>\n",
       "  </thead>\n",
       "  <tbody>\n",
       "    <tr>\n",
       "      <th>0</th>\n",
       "      <td>M</td>\n",
       "      <td>KW</td>\n",
       "      <td>KuwaIT</td>\n",
       "      <td>lowerlevel</td>\n",
       "      <td>G-04</td>\n",
       "      <td>A</td>\n",
       "      <td>IT</td>\n",
       "      <td>F</td>\n",
       "      <td>Father</td>\n",
       "      <td>15</td>\n",
       "      <td>16</td>\n",
       "      <td>2</td>\n",
       "      <td>20</td>\n",
       "      <td>Yes</td>\n",
       "      <td>Good</td>\n",
       "      <td>Under-7</td>\n",
       "      <td>M</td>\n",
       "    </tr>\n",
       "    <tr>\n",
       "      <th>1</th>\n",
       "      <td>M</td>\n",
       "      <td>KW</td>\n",
       "      <td>KuwaIT</td>\n",
       "      <td>lowerlevel</td>\n",
       "      <td>G-04</td>\n",
       "      <td>A</td>\n",
       "      <td>IT</td>\n",
       "      <td>F</td>\n",
       "      <td>Father</td>\n",
       "      <td>20</td>\n",
       "      <td>20</td>\n",
       "      <td>3</td>\n",
       "      <td>25</td>\n",
       "      <td>Yes</td>\n",
       "      <td>Good</td>\n",
       "      <td>Under-7</td>\n",
       "      <td>M</td>\n",
       "    </tr>\n",
       "    <tr>\n",
       "      <th>2</th>\n",
       "      <td>M</td>\n",
       "      <td>KW</td>\n",
       "      <td>KuwaIT</td>\n",
       "      <td>lowerlevel</td>\n",
       "      <td>G-04</td>\n",
       "      <td>A</td>\n",
       "      <td>IT</td>\n",
       "      <td>F</td>\n",
       "      <td>Father</td>\n",
       "      <td>10</td>\n",
       "      <td>7</td>\n",
       "      <td>0</td>\n",
       "      <td>30</td>\n",
       "      <td>No</td>\n",
       "      <td>Bad</td>\n",
       "      <td>Above-7</td>\n",
       "      <td>L</td>\n",
       "    </tr>\n",
       "    <tr>\n",
       "      <th>3</th>\n",
       "      <td>M</td>\n",
       "      <td>KW</td>\n",
       "      <td>KuwaIT</td>\n",
       "      <td>lowerlevel</td>\n",
       "      <td>G-04</td>\n",
       "      <td>A</td>\n",
       "      <td>IT</td>\n",
       "      <td>F</td>\n",
       "      <td>Father</td>\n",
       "      <td>30</td>\n",
       "      <td>25</td>\n",
       "      <td>5</td>\n",
       "      <td>35</td>\n",
       "      <td>No</td>\n",
       "      <td>Bad</td>\n",
       "      <td>Above-7</td>\n",
       "      <td>L</td>\n",
       "    </tr>\n",
       "    <tr>\n",
       "      <th>4</th>\n",
       "      <td>M</td>\n",
       "      <td>KW</td>\n",
       "      <td>KuwaIT</td>\n",
       "      <td>lowerlevel</td>\n",
       "      <td>G-04</td>\n",
       "      <td>A</td>\n",
       "      <td>IT</td>\n",
       "      <td>F</td>\n",
       "      <td>Father</td>\n",
       "      <td>40</td>\n",
       "      <td>50</td>\n",
       "      <td>12</td>\n",
       "      <td>50</td>\n",
       "      <td>No</td>\n",
       "      <td>Bad</td>\n",
       "      <td>Above-7</td>\n",
       "      <td>M</td>\n",
       "    </tr>\n",
       "  </tbody>\n",
       "</table>\n",
       "</div>"
      ],
      "text/plain": [
       "  gender NationalITy PlaceofBirth     StageID GradeID SectionID Topic   \n",
       "0      M          KW       KuwaIT  lowerlevel    G-04         A    IT  \\\n",
       "1      M          KW       KuwaIT  lowerlevel    G-04         A    IT   \n",
       "2      M          KW       KuwaIT  lowerlevel    G-04         A    IT   \n",
       "3      M          KW       KuwaIT  lowerlevel    G-04         A    IT   \n",
       "4      M          KW       KuwaIT  lowerlevel    G-04         A    IT   \n",
       "\n",
       "  Semester Relation  raisedhands  VisITedResources  AnnouncementsView   \n",
       "0        F   Father           15                16                  2  \\\n",
       "1        F   Father           20                20                  3   \n",
       "2        F   Father           10                 7                  0   \n",
       "3        F   Father           30                25                  5   \n",
       "4        F   Father           40                50                 12   \n",
       "\n",
       "   Discussion ParentAnsweringSurvey ParentschoolSatisfaction   \n",
       "0          20                   Yes                     Good  \\\n",
       "1          25                   Yes                     Good   \n",
       "2          30                    No                      Bad   \n",
       "3          35                    No                      Bad   \n",
       "4          50                    No                      Bad   \n",
       "\n",
       "  StudentAbsenceDays Class  \n",
       "0            Under-7     M  \n",
       "1            Under-7     M  \n",
       "2            Above-7     L  \n",
       "3            Above-7     L  \n",
       "4            Above-7     M  "
      ]
     },
     "execution_count": 5,
     "metadata": {},
     "output_type": "execute_result"
    }
   ],
   "source": [
    "df_class.head()"
   ]
  },
  {
   "cell_type": "markdown",
   "id": "44b1e9e2-1646-4378-bf08-590ce4ea2eac",
   "metadata": {},
   "source": [
    "# Exploratory data analysis"
   ]
  },
  {
   "cell_type": "code",
   "execution_count": 11,
   "id": "c36ac016-4b91-4833-b4b1-3ff8417c144f",
   "metadata": {},
   "outputs": [
    {
     "data": {
      "text/plain": [
       "gender\n",
       "M    63.54\n",
       "F    36.46\n",
       "Name: proportion, dtype: float64"
      ]
     },
     "execution_count": 11,
     "metadata": {},
     "output_type": "execute_result"
    }
   ],
   "source": [
    "## creating a percentage analysis of RP-wise distribution of data\n",
    "round(df_class[\"gender\"].value_counts(normalize=True)*100,2)"
   ]
  },
  {
   "cell_type": "code",
   "execution_count": 12,
   "id": "63b90a23-d174-4261-8a4d-2df211af597b",
   "metadata": {},
   "outputs": [
    {
     "data": {
      "text/plain": [
       "NationalITy\n",
       "KW             37.29\n",
       "Jordan         35.83\n",
       "Palestine       5.83\n",
       "Iraq            4.58\n",
       "lebanon         3.54\n",
       "Tunis           2.50\n",
       "SaudiArabia     2.29\n",
       "Egypt           1.88\n",
       "Syria           1.46\n",
       "USA             1.25\n",
       "Iran            1.25\n",
       "Lybia           1.25\n",
       "Morocco         0.83\n",
       "venzuela        0.21\n",
       "Name: proportion, dtype: float64"
      ]
     },
     "execution_count": 12,
     "metadata": {},
     "output_type": "execute_result"
    }
   ],
   "source": [
    "## creating a percentage analysis of RP-wise distribution of data\n",
    "round(df_class[\"NationalITy\"].value_counts(normalize=True)*100,2)"
   ]
  },
  {
   "cell_type": "code",
   "execution_count": 13,
   "id": "179e25e5-55cd-453c-84d3-501e7bce393e",
   "metadata": {},
   "outputs": [
    {
     "data": {
      "text/plain": [
       "PlaceofBirth\n",
       "KuwaIT         37.50\n",
       "Jordan         36.67\n",
       "Iraq            4.58\n",
       "lebanon         3.96\n",
       "SaudiArabia     3.33\n",
       "USA             3.33\n",
       "Palestine       2.08\n",
       "Egypt           1.88\n",
       "Tunis           1.88\n",
       "Iran            1.25\n",
       "Syria           1.25\n",
       "Lybia           1.25\n",
       "Morocco         0.83\n",
       "venzuela        0.21\n",
       "Name: proportion, dtype: float64"
      ]
     },
     "execution_count": 13,
     "metadata": {},
     "output_type": "execute_result"
    }
   ],
   "source": [
    "## creating a percentage analysis of RP-wise distribution of data\n",
    "round(df_class[\"PlaceofBirth\"].value_counts(normalize=True)*100,2)"
   ]
  },
  {
   "cell_type": "code",
   "execution_count": 14,
   "id": "e3977036-1d7f-4bb4-8edb-bb3e5c940798",
   "metadata": {},
   "outputs": [
    {
     "data": {
      "text/plain": [
       "StageID\n",
       "MiddleSchool    51.67\n",
       "lowerlevel      41.46\n",
       "HighSchool       6.88\n",
       "Name: proportion, dtype: float64"
      ]
     },
     "execution_count": 14,
     "metadata": {},
     "output_type": "execute_result"
    }
   ],
   "source": [
    "## creating a percentage analysis of RP-wise distribution of data\n",
    "round(df_class[\"StageID\"].value_counts(normalize=True)*100,2)"
   ]
  },
  {
   "cell_type": "code",
   "execution_count": 15,
   "id": "00d56e10-9327-4b4c-8bd8-f46c3401c387",
   "metadata": {},
   "outputs": [
    {
     "data": {
      "text/plain": [
       "GradeID\n",
       "G-02    30.63\n",
       "G-08    24.17\n",
       "G-07    21.04\n",
       "G-04    10.00\n",
       "G-06     6.67\n",
       "G-11     2.71\n",
       "G-12     2.29\n",
       "G-09     1.04\n",
       "G-10     0.83\n",
       "G-05     0.62\n",
       "Name: proportion, dtype: float64"
      ]
     },
     "execution_count": 15,
     "metadata": {},
     "output_type": "execute_result"
    }
   ],
   "source": [
    "## creating a percentage analysis of RP-wise distribution of data\n",
    "round(df_class[\"GradeID\"].value_counts(normalize=True)*100,2)"
   ]
  },
  {
   "cell_type": "code",
   "execution_count": 16,
   "id": "09a74e69-f2c4-4ed7-b329-1c97060e5087",
   "metadata": {},
   "outputs": [
    {
     "data": {
      "text/plain": [
       "SectionID\n",
       "A    58.96\n",
       "B    34.79\n",
       "C     6.25\n",
       "Name: proportion, dtype: float64"
      ]
     },
     "execution_count": 16,
     "metadata": {},
     "output_type": "execute_result"
    }
   ],
   "source": [
    "## creating a percentage analysis of RP-wise distribution of data\n",
    "round(df_class[\"SectionID\"].value_counts(normalize=True)*100,2)"
   ]
  },
  {
   "cell_type": "code",
   "execution_count": 17,
   "id": "da8d906d-ffb7-4612-b286-e05ba58f2e32",
   "metadata": {},
   "outputs": [
    {
     "data": {
      "text/plain": [
       "Topic\n",
       "IT           19.79\n",
       "French       13.54\n",
       "Arabic       12.29\n",
       "Science      10.62\n",
       "English       9.38\n",
       "Biology       6.25\n",
       "Spanish       5.21\n",
       "Chemistry     5.00\n",
       "Geology       5.00\n",
       "Quran         4.58\n",
       "Math          4.38\n",
       "History       3.96\n",
       "Name: proportion, dtype: float64"
      ]
     },
     "execution_count": 17,
     "metadata": {},
     "output_type": "execute_result"
    }
   ],
   "source": [
    "## creating a percentage analysis of RP-wise distribution of data\n",
    "round(df_class[\"Topic\"].value_counts(normalize=True)*100,2)"
   ]
  },
  {
   "cell_type": "code",
   "execution_count": 18,
   "id": "0ddbdfe0-cabd-4b61-bd03-b62daf4a2804",
   "metadata": {},
   "outputs": [
    {
     "data": {
      "text/plain": [
       "Semester\n",
       "F    51.04\n",
       "S    48.96\n",
       "Name: proportion, dtype: float64"
      ]
     },
     "execution_count": 18,
     "metadata": {},
     "output_type": "execute_result"
    }
   ],
   "source": [
    "## creating a percentage analysis of RP-wise distribution of data\n",
    "round(df_class[\"Semester\"].value_counts(normalize=True)*100,2)"
   ]
  },
  {
   "cell_type": "code",
   "execution_count": 19,
   "id": "57a3cd77-02a5-414f-912b-269dd9d28863",
   "metadata": {},
   "outputs": [
    {
     "data": {
      "text/plain": [
       "Relation\n",
       "Father    58.96\n",
       "Mum       41.04\n",
       "Name: proportion, dtype: float64"
      ]
     },
     "execution_count": 19,
     "metadata": {},
     "output_type": "execute_result"
    }
   ],
   "source": [
    "## creating a percentage analysis of RP-wise distribution of data\n",
    "round(df_class[\"Relation\"].value_counts(normalize=True)*100,2)"
   ]
  },
  {
   "cell_type": "code",
   "execution_count": 20,
   "id": "016e76d0-8271-4343-8510-3dd84ee65e2f",
   "metadata": {},
   "outputs": [
    {
     "data": {
      "text/plain": [
       "raisedhands\n",
       "10    6.46\n",
       "70    6.46\n",
       "80    5.83\n",
       "72    3.54\n",
       "50    3.54\n",
       "      ... \n",
       "61    0.21\n",
       "83    0.21\n",
       "52    0.21\n",
       "67    0.21\n",
       "97    0.21\n",
       "Name: proportion, Length: 82, dtype: float64"
      ]
     },
     "execution_count": 20,
     "metadata": {},
     "output_type": "execute_result"
    }
   ],
   "source": [
    "## creating a percentage analysis of RP-wise distribution of data\n",
    "round(df_class[\"raisedhands\"].value_counts(normalize=True)*100,2)"
   ]
  },
  {
   "cell_type": "code",
   "execution_count": 21,
   "id": "e6a693f5-2a5c-43a7-ad73-2f2d1412620e",
   "metadata": {},
   "outputs": [
    {
     "data": {
      "text/plain": [
       "VisITedResources\n",
       "80    6.04\n",
       "90    6.04\n",
       "82    3.33\n",
       "12    2.71\n",
       "88    2.71\n",
       "      ... \n",
       "63    0.21\n",
       "55    0.21\n",
       "54    0.21\n",
       "1     0.21\n",
       "78    0.21\n",
       "Name: proportion, Length: 89, dtype: float64"
      ]
     },
     "execution_count": 21,
     "metadata": {},
     "output_type": "execute_result"
    }
   ],
   "source": [
    "## creating a percentage analysis of RP-wise distribution of data\n",
    "round(df_class[\"VisITedResources\"].value_counts(normalize=True)*100,2)"
   ]
  },
  {
   "cell_type": "code",
   "execution_count": 22,
   "id": "d0a3838c-51f6-46fd-a171-237195136c06",
   "metadata": {},
   "outputs": [
    {
     "data": {
      "text/plain": [
       "AnnouncementsView\n",
       "12    4.38\n",
       "42    3.33\n",
       "50    3.33\n",
       "40    3.33\n",
       "2     2.92\n",
       "      ... \n",
       "93    0.21\n",
       "17    0.21\n",
       "24    0.21\n",
       "91    0.21\n",
       "78    0.21\n",
       "Name: proportion, Length: 88, dtype: float64"
      ]
     },
     "execution_count": 22,
     "metadata": {},
     "output_type": "execute_result"
    }
   ],
   "source": [
    "## creating a percentage analysis of RP-wise distribution of data\n",
    "round(df_class[\"AnnouncementsView\"].value_counts(normalize=True)*100,2)"
   ]
  },
  {
   "cell_type": "code",
   "execution_count": 24,
   "id": "fa31a1d0-1c27-43f1-a337-05a1252d11f6",
   "metadata": {},
   "outputs": [
    {
     "data": {
      "text/plain": [
       "Discussion\n",
       "70    5.00\n",
       "40    4.79\n",
       "33    4.38\n",
       "50    3.75\n",
       "30    3.54\n",
       "      ... \n",
       "95    0.21\n",
       "65    0.21\n",
       "76    0.21\n",
       "73    0.21\n",
       "62    0.21\n",
       "Name: proportion, Length: 90, dtype: float64"
      ]
     },
     "execution_count": 24,
     "metadata": {},
     "output_type": "execute_result"
    }
   ],
   "source": [
    "## creating a percentage analysis of RP-wise distribution of data\n",
    "round(df_class[\"Discussion\"].value_counts(normalize=True)*100,2)"
   ]
  },
  {
   "cell_type": "code",
   "execution_count": 25,
   "id": "86c0c1a3-5d10-4bfa-ab01-85efc18e8319",
   "metadata": {},
   "outputs": [
    {
     "data": {
      "text/plain": [
       "ParentAnsweringSurvey\n",
       "Yes    56.25\n",
       "No     43.75\n",
       "Name: proportion, dtype: float64"
      ]
     },
     "execution_count": 25,
     "metadata": {},
     "output_type": "execute_result"
    }
   ],
   "source": [
    "## creating a percentage analysis of RP-wise distribution of data\n",
    "round(df_class[\"ParentAnsweringSurvey\"].value_counts(normalize=True)*100,2)"
   ]
  },
  {
   "cell_type": "code",
   "execution_count": 26,
   "id": "b267ed1e-38ad-4a4f-9934-f8d2ddc6cd2e",
   "metadata": {},
   "outputs": [
    {
     "data": {
      "text/plain": [
       "ParentschoolSatisfaction\n",
       "Good    60.83\n",
       "Bad     39.17\n",
       "Name: proportion, dtype: float64"
      ]
     },
     "execution_count": 26,
     "metadata": {},
     "output_type": "execute_result"
    }
   ],
   "source": [
    "## creating a percentage analysis of RP-wise distribution of data\n",
    "round(df_class[\"ParentschoolSatisfaction\"].value_counts(normalize=True)*100,2)"
   ]
  },
  {
   "cell_type": "code",
   "execution_count": 27,
   "id": "f47e4afd-0a99-48cd-90bf-0f67b34670f5",
   "metadata": {},
   "outputs": [
    {
     "data": {
      "text/plain": [
       "StudentAbsenceDays\n",
       "Under-7    60.21\n",
       "Above-7    39.79\n",
       "Name: proportion, dtype: float64"
      ]
     },
     "execution_count": 27,
     "metadata": {},
     "output_type": "execute_result"
    }
   ],
   "source": [
    "## creating a percentage analysis of RP-wise distribution of data\n",
    "round(df_class[\"StudentAbsenceDays\"].value_counts(normalize=True)*100,2)"
   ]
  },
  {
   "cell_type": "code",
   "execution_count": 28,
   "id": "506c04e7-3a0e-4d3b-bb0d-8d3be326a9b8",
   "metadata": {},
   "outputs": [
    {
     "data": {
      "text/plain": [
       "Class\n",
       "M    43.96\n",
       "H    29.58\n",
       "L    26.46\n",
       "Name: proportion, dtype: float64"
      ]
     },
     "execution_count": 28,
     "metadata": {},
     "output_type": "execute_result"
    }
   ],
   "source": [
    "## creating a percentage analysis of RP-wise distribution of data\n",
    "round(df_class[\"Class\"].value_counts(normalize=True)*100,2)"
   ]
  },
  {
   "cell_type": "markdown",
   "id": "c93f5391-da57-4423-8652-873c9c0e36f5",
   "metadata": {},
   "source": [
    " # K-means Clustering"
   ]
  },
  {
   "cell_type": "markdown",
   "id": "f84031db-257b-42d9-95d5-22e1b58062fb",
   "metadata": {},
   "source": [
    "## Finding the best value of k using elbow method"
   ]
  },
  {
   "cell_type": "code",
   "execution_count": 35,
   "id": "a6fd2532-8709-4304-95de-497df5a1d716",
   "metadata": {},
   "outputs": [],
   "source": [
    "input_col=[\"raisedhands\",\"VisITedResources\",\"AnnouncementsView\",\"Discussion\"]\n",
    "X=df_class[input_col].values"
   ]
  },
  {
   "cell_type": "code",
   "execution_count": 36,
   "id": "92b9f01b-61f0-474e-9988-f79eaae17f7a",
   "metadata": {},
   "outputs": [],
   "source": [
    "# Initialize an empty list to store the within-cluster sum of squares\n",
    "from sklearn.cluster import KMeans\n",
    "wcss = []\n",
    "\n",
    "# Try different values of k\n",
    "for k in range(1, 11):\n",
    "    kmeans = KMeans(n_clusters=k,n_init='auto', random_state=42)\n",
    "    kmeans.fit(X)\n",
    "    wcss.append(kmeans.inertia_)# here inertia calculate sum of square distance in each cluster\n"
   ]
  },
  {
   "cell_type": "code",
   "execution_count": 37,
   "id": "5e005901-9188-4dbc-b566-cc35a20c2a60",
   "metadata": {},
   "outputs": [
    {
     "data": {
      "image/png": "[encoded data removed]",
      "text/plain": [
       "<Figure size 640x480 with 1 Axes>"
      ]
     },
     "metadata": {},
     "output_type": "display_data"
    }
   ],
   "source": [
    "# Plot the within-cluster sum of squares for different values of k\n",
    "plt.plot(range(1, 11), wcss, marker='o')\n",
    "plt.xlabel('Number of Clusters (k)')\n",
    "plt.ylabel('Within-Cluster Sum of Squares (WCSS)')\n",
    "plt.title('Elbow Method')\n",
    "plt.show()"
   ]
  },
  {
   "cell_type": "markdown",
   "id": "5c613d5f-b996-44fb-9629-919565aa7833",
   "metadata": {},
   "source": [
    "## Using Gridsearch method"
   ]
  },
  {
   "cell_type": "code",
   "execution_count": null,
   "id": "112203ec-8f81-4310-a52f-553767088b5b",
   "metadata": {},
   "outputs": [],
   "source": [
    "# Define the parameter grid\n",
    "from sklearn.model_selection import GridSearchCV\n",
    "\n",
    "param_grid = {'n_clusters': [2, 3, 4, 5, 6]}\n",
    "\n",
    "# Create a KMeans object\n",
    "kmeans = KMeans(n_init='auto',random_state=42)\n",
    "\n",
    "# Create a GridSearchCV object\n",
    "grid_search = GridSearchCV(kmeans, param_grid, cv=5)\n",
    "\n",
    "# Perform grid search\n",
    "grid_search.fit(X)\n",
    "\n",
    "# Get the best parameters and the best score\n",
    "best_params = grid_search.best_params_\n",
    "best_score = grid_search.best_score_"
   ]
  },
  {
   "cell_type": "code",
   "execution_count": null,
   "id": "be2af71d-4e0f-4163-93c3-98f4f06f0d49",
   "metadata": {},
   "outputs": [],
   "source": [
    "print(\"Best Parameters:\", best_params)\n",
    "print(\"Best Score:\", best_score)"
   ]
  },
  {
   "cell_type": "markdown",
   "id": "a49ebd61-7498-4a82-99d0-b4cc79fa20b4",
   "metadata": {},
   "source": [
    "## Implementing K-means clustering"
   ]
  },
  {
   "cell_type": "code",
   "execution_count": 38,
   "id": "36773f19-1cb3-45f1-896b-f7b9fa07d0cc",
   "metadata": {},
   "outputs": [
    {
     "data": {
      "text/html": [
       "<style>#sk-container-id-1 {color: black;background-color: white;}#sk-container-id-1 pre{padding: 0;}#sk-container-id-1 div.sk-toggleable {background-color: white;}#sk-container-id-1 label.sk-toggleable__label {cursor: pointer;display: block;width: 100%;margin-bottom: 0;padding: 0.3em;box-sizing: border-box;text-align: center;}#sk-container-id-1 label.sk-toggleable__label-arrow:before {content: \"▸\";float: left;margin-right: 0.25em;color: #696969;}#sk-container-id-1 label.sk-toggleable__label-arrow:hover:before {color: black;}#sk-container-id-1 div.sk-estimator:hover label.sk-toggleable__label-arrow:before {color: black;}#sk-container-id-1 div.sk-toggleable__content {max-height: 0;max-width: 0;overflow: hidden;text-align: left;background-color: #f0f8ff;}#sk-container-id-1 div.sk-toggleable__content pre {margin: 0.2em;color: black;border-radius: 0.25em;background-color: #f0f8ff;}#sk-container-id-1 input.sk-toggleable__control:checked~div.sk-toggleable__content {max-height: 200px;max-width: 100%;overflow: auto;}#sk-container-id-1 input.sk-toggleable__control:checked~label.sk-toggleable__label-arrow:before {content: \"▾\";}#sk-container-id-1 div.sk-estimator input.sk-toggleable__control:checked~label.sk-toggleable__label {background-color: #d4ebff;}#sk-container-id-1 div.sk-label input.sk-toggleable__control:checked~label.sk-toggleable__label {background-color: #d4ebff;}#sk-container-id-1 input.sk-hidden--visually {border: 0;clip: rect(1px 1px 1px 1px);clip: rect(1px, 1px, 1px, 1px);height: 1px;margin: -1px;overflow: hidden;padding: 0;position: absolute;width: 1px;}#sk-container-id-1 div.sk-estimator {font-family: monospace;background-color: #f0f8ff;border: 1px dotted black;border-radius: 0.25em;box-sizing: border-box;margin-bottom: 0.5em;}#sk-container-id-1 div.sk-estimator:hover {background-color: #d4ebff;}#sk-container-id-1 div.sk-parallel-item::after {content: \"\";width: 100%;border-bottom: 1px solid gray;flex-grow: 1;}#sk-container-id-1 div.sk-label:hover label.sk-toggleable__label {background-color: #d4ebff;}#sk-container-id-1 div.sk-serial::before {content: \"\";position: absolute;border-left: 1px solid gray;box-sizing: border-box;top: 0;bottom: 0;left: 50%;z-index: 0;}#sk-container-id-1 div.sk-serial {display: flex;flex-direction: column;align-items: center;background-color: white;padding-right: 0.2em;padding-left: 0.2em;position: relative;}#sk-container-id-1 div.sk-item {position: relative;z-index: 1;}#sk-container-id-1 div.sk-parallel {display: flex;align-items: stretch;justify-content: center;background-color: white;position: relative;}#sk-container-id-1 div.sk-item::before, #sk-container-id-1 div.sk-parallel-item::before {content: \"\";position: absolute;border-left: 1px solid gray;box-sizing: border-box;top: 0;bottom: 0;left: 50%;z-index: -1;}#sk-container-id-1 div.sk-parallel-item {display: flex;flex-direction: column;z-index: 1;position: relative;background-color: white;}#sk-container-id-1 div.sk-parallel-item:first-child::after {align-self: flex-end;width: 50%;}#sk-container-id-1 div.sk-parallel-item:last-child::after {align-self: flex-start;width: 50%;}#sk-container-id-1 div.sk-parallel-item:only-child::after {width: 0;}#sk-container-id-1 div.sk-dashed-wrapped {border: 1px dashed gray;margin: 0 0.4em 0.5em 0.4em;box-sizing: border-box;padding-bottom: 0.4em;background-color: white;}#sk-container-id-1 div.sk-label label {font-family: monospace;font-weight: bold;display: inline-block;line-height: 1.2em;}#sk-container-id-1 div.sk-label-container {text-align: center;}#sk-container-id-1 div.sk-container {/* jupyter's `normalize.less` sets `[hidden] { display: none; }` but bootstrap.min.css set `[hidden] { display: none !important; }` so we also need the `!important` here to be able to override the default hidden behavior on the sphinx rendered scikit-learn.org. See: https://github.com/scikit-learn/scikit-learn/issues/21755 */display: inline-block !important;position: relative;}#sk-container-id-1 div.sk-text-repr-fallback {display: none;}</style><div id=\"sk-container-id-1\" class=\"sk-top-container\"><div class=\"sk-text-repr-fallback\"><pre>KMeans(n_clusters=3, n_init=&#x27;auto&#x27;, random_state=42)</pre><b>In a Jupyter environment, please rerun this cell to show the HTML representation or trust the notebook. <br />On GitHub, the HTML representation is unable to render, please try loading this page with nbviewer.org.</b></div><div class=\"sk-container\" hidden><div class=\"sk-item\"><div class=\"sk-estimator sk-toggleable\"><input class=\"sk-toggleable__control sk-hidden--visually\" id=\"sk-estimator-id-1\" type=\"checkbox\" checked><label for=\"sk-estimator-id-1\" class=\"sk-toggleable__label sk-toggleable__label-arrow\">KMeans</label><div class=\"sk-toggleable__content\"><pre>KMeans(n_clusters=3, n_init=&#x27;auto&#x27;, random_state=42)</pre></div></div></div></div></div>"
      ],
      "text/plain": [
       "KMeans(n_clusters=3, n_init='auto', random_state=42)"
      ]
     },
     "execution_count": 38,
     "metadata": {},
     "output_type": "execute_result"
    }
   ],
   "source": [
    "# Perform k-means clustering\n",
    "k = 3 # Number of clusters\n",
    "kmeans = KMeans(n_clusters=k,n_init='auto', random_state=42)\n",
    "kmeans.fit(X)"
   ]
  },
  {
   "cell_type": "markdown",
   "id": "18e24b0f-b9d7-47b6-9b94-330fd6336543",
   "metadata": {},
   "source": [
    "## Extracting labels and cluster centers"
   ]
  },
  {
   "cell_type": "code",
   "execution_count": 39,
   "id": "80a80ce8-a43f-4565-9efe-6d807fa3c737",
   "metadata": {},
   "outputs": [],
   "source": [
    "# Get the cluster labels and centroids\n",
    "labels = kmeans.labels_\n",
    "centroids = kmeans.cluster_centers_\n",
    "\n",
    "# Add the cluster labels to the DataFrame\n",
    "df_class['Cluster'] = labels\n"
   ]
  },
  {
   "cell_type": "code",
   "execution_count": 40,
   "id": "94428f3c-ac55-48bc-9368-3ed041d34a7e",
   "metadata": {},
   "outputs": [
    {
     "data": {
      "text/html": [
       "<div>\n",
       "<style scoped>\n",
       "    .dataframe tbody tr th:only-of-type {\n",
       "        vertical-align: middle;\n",
       "    }\n",
       "\n",
       "    .dataframe tbody tr th {\n",
       "        vertical-align: top;\n",
       "    }\n",
       "\n",
       "    .dataframe thead th {\n",
       "        text-align: right;\n",
       "    }\n",
       "</style>\n",
       "<table border=\"1\" class=\"dataframe\">\n",
       "  <thead>\n",
       "    <tr style=\"text-align: right;\">\n",
       "      <th></th>\n",
       "      <th>gender</th>\n",
       "      <th>NationalITy</th>\n",
       "      <th>PlaceofBirth</th>\n",
       "      <th>StageID</th>\n",
       "      <th>GradeID</th>\n",
       "      <th>SectionID</th>\n",
       "      <th>Topic</th>\n",
       "      <th>Semester</th>\n",
       "      <th>Relation</th>\n",
       "      <th>raisedhands</th>\n",
       "      <th>VisITedResources</th>\n",
       "      <th>AnnouncementsView</th>\n",
       "      <th>Discussion</th>\n",
       "      <th>ParentAnsweringSurvey</th>\n",
       "      <th>ParentschoolSatisfaction</th>\n",
       "      <th>StudentAbsenceDays</th>\n",
       "      <th>Class</th>\n",
       "      <th>Cluster</th>\n",
       "    </tr>\n",
       "  </thead>\n",
       "  <tbody>\n",
       "    <tr>\n",
       "      <th>0</th>\n",
       "      <td>M</td>\n",
       "      <td>KW</td>\n",
       "      <td>KuwaIT</td>\n",
       "      <td>lowerlevel</td>\n",
       "      <td>G-04</td>\n",
       "      <td>A</td>\n",
       "      <td>IT</td>\n",
       "      <td>F</td>\n",
       "      <td>Father</td>\n",
       "      <td>15</td>\n",
       "      <td>16</td>\n",
       "      <td>2</td>\n",
       "      <td>20</td>\n",
       "      <td>Yes</td>\n",
       "      <td>Good</td>\n",
       "      <td>Under-7</td>\n",
       "      <td>M</td>\n",
       "      <td>0</td>\n",
       "    </tr>\n",
       "    <tr>\n",
       "      <th>1</th>\n",
       "      <td>M</td>\n",
       "      <td>KW</td>\n",
       "      <td>KuwaIT</td>\n",
       "      <td>lowerlevel</td>\n",
       "      <td>G-04</td>\n",
       "      <td>A</td>\n",
       "      <td>IT</td>\n",
       "      <td>F</td>\n",
       "      <td>Father</td>\n",
       "      <td>20</td>\n",
       "      <td>20</td>\n",
       "      <td>3</td>\n",
       "      <td>25</td>\n",
       "      <td>Yes</td>\n",
       "      <td>Good</td>\n",
       "      <td>Under-7</td>\n",
       "      <td>M</td>\n",
       "      <td>0</td>\n",
       "    </tr>\n",
       "    <tr>\n",
       "      <th>2</th>\n",
       "      <td>M</td>\n",
       "      <td>KW</td>\n",
       "      <td>KuwaIT</td>\n",
       "      <td>lowerlevel</td>\n",
       "      <td>G-04</td>\n",
       "      <td>A</td>\n",
       "      <td>IT</td>\n",
       "      <td>F</td>\n",
       "      <td>Father</td>\n",
       "      <td>10</td>\n",
       "      <td>7</td>\n",
       "      <td>0</td>\n",
       "      <td>30</td>\n",
       "      <td>No</td>\n",
       "      <td>Bad</td>\n",
       "      <td>Above-7</td>\n",
       "      <td>L</td>\n",
       "      <td>0</td>\n",
       "    </tr>\n",
       "    <tr>\n",
       "      <th>3</th>\n",
       "      <td>M</td>\n",
       "      <td>KW</td>\n",
       "      <td>KuwaIT</td>\n",
       "      <td>lowerlevel</td>\n",
       "      <td>G-04</td>\n",
       "      <td>A</td>\n",
       "      <td>IT</td>\n",
       "      <td>F</td>\n",
       "      <td>Father</td>\n",
       "      <td>30</td>\n",
       "      <td>25</td>\n",
       "      <td>5</td>\n",
       "      <td>35</td>\n",
       "      <td>No</td>\n",
       "      <td>Bad</td>\n",
       "      <td>Above-7</td>\n",
       "      <td>L</td>\n",
       "      <td>0</td>\n",
       "    </tr>\n",
       "    <tr>\n",
       "      <th>4</th>\n",
       "      <td>M</td>\n",
       "      <td>KW</td>\n",
       "      <td>KuwaIT</td>\n",
       "      <td>lowerlevel</td>\n",
       "      <td>G-04</td>\n",
       "      <td>A</td>\n",
       "      <td>IT</td>\n",
       "      <td>F</td>\n",
       "      <td>Father</td>\n",
       "      <td>40</td>\n",
       "      <td>50</td>\n",
       "      <td>12</td>\n",
       "      <td>50</td>\n",
       "      <td>No</td>\n",
       "      <td>Bad</td>\n",
       "      <td>Above-7</td>\n",
       "      <td>M</td>\n",
       "      <td>0</td>\n",
       "    </tr>\n",
       "  </tbody>\n",
       "</table>\n",
       "</div>"
      ],
      "text/plain": [
       "  gender NationalITy PlaceofBirth     StageID GradeID SectionID Topic   \n",
       "0      M          KW       KuwaIT  lowerlevel    G-04         A    IT  \\\n",
       "1      M          KW       KuwaIT  lowerlevel    G-04         A    IT   \n",
       "2      M          KW       KuwaIT  lowerlevel    G-04         A    IT   \n",
       "3      M          KW       KuwaIT  lowerlevel    G-04         A    IT   \n",
       "4      M          KW       KuwaIT  lowerlevel    G-04         A    IT   \n",
       "\n",
       "  Semester Relation  raisedhands  VisITedResources  AnnouncementsView   \n",
       "0        F   Father           15                16                  2  \\\n",
       "1        F   Father           20                20                  3   \n",
       "2        F   Father           10                 7                  0   \n",
       "3        F   Father           30                25                  5   \n",
       "4        F   Father           40                50                 12   \n",
       "\n",
       "   Discussion ParentAnsweringSurvey ParentschoolSatisfaction   \n",
       "0          20                   Yes                     Good  \\\n",
       "1          25                   Yes                     Good   \n",
       "2          30                    No                      Bad   \n",
       "3          35                    No                      Bad   \n",
       "4          50                    No                      Bad   \n",
       "\n",
       "  StudentAbsenceDays Class  Cluster  \n",
       "0            Under-7     M        0  \n",
       "1            Under-7     M        0  \n",
       "2            Above-7     L        0  \n",
       "3            Above-7     L        0  \n",
       "4            Above-7     M        0  "
      ]
     },
     "execution_count": 40,
     "metadata": {},
     "output_type": "execute_result"
    }
   ],
   "source": [
    "df_class.head()"
   ]
  },
  {
   "cell_type": "markdown",
   "id": "3b825b98-eeab-4f45-a297-d014234067d1",
   "metadata": {},
   "source": [
    "## Visualizing the clustering using first two features"
   ]
  },
  {
   "cell_type": "code",
   "execution_count": 41,
   "id": "8c601ea5-cea5-45ba-8e32-087b05127d34",
   "metadata": {},
   "outputs": [
    {
     "data": {
      "image/png": "[encoded data removed]",
      "text/plain": [
       "<Figure size 640x480 with 1 Axes>"
      ]
     },
     "metadata": {},
     "output_type": "display_data"
    }
   ],
   "source": [
    "# Visualize the clusters\n",
    "plt.scatter(X[:, 1], X[:, 2], c=labels, cmap='viridis')\n",
    "plt.scatter(centroids[:,1], centroids[:, 2], marker='X', s=200, c='red')\n",
    "plt.xlabel(input_col[1])\n",
    "plt.ylabel(input_col[2])\n",
    "plt.title('K-means Clustering')\n",
    "plt.show()"
   ]
  },
  {
   "cell_type": "markdown",
   "id": "5bde7398-06d1-4d0f-958c-48c4a176cd3d",
   "metadata": {},
   "source": [
    "## Perception on raisedhands over Clustors\n"
   ]
  },
  {
   "cell_type": "code",
   "execution_count": 43,
   "id": "d043472a-7941-4f4d-a997-095121ae607a",
   "metadata": {},
   "outputs": [
    {
     "data": {
      "text/html": [
       "<div>\n",
       "<style scoped>\n",
       "    .dataframe tbody tr th:only-of-type {\n",
       "        vertical-align: middle;\n",
       "    }\n",
       "\n",
       "    .dataframe tbody tr th {\n",
       "        vertical-align: top;\n",
       "    }\n",
       "\n",
       "    .dataframe thead th {\n",
       "        text-align: right;\n",
       "    }\n",
       "</style>\n",
       "<table border=\"1\" class=\"dataframe\">\n",
       "  <thead>\n",
       "    <tr style=\"text-align: right;\">\n",
       "      <th>Cluster</th>\n",
       "      <th>0</th>\n",
       "      <th>1</th>\n",
       "      <th>2</th>\n",
       "    </tr>\n",
       "    <tr>\n",
       "      <th>raisedhands</th>\n",
       "      <th></th>\n",
       "      <th></th>\n",
       "      <th></th>\n",
       "    </tr>\n",
       "  </thead>\n",
       "  <tbody>\n",
       "    <tr>\n",
       "      <th>0</th>\n",
       "      <td>9</td>\n",
       "      <td>0</td>\n",
       "      <td>0</td>\n",
       "    </tr>\n",
       "    <tr>\n",
       "      <th>1</th>\n",
       "      <td>2</td>\n",
       "      <td>0</td>\n",
       "      <td>0</td>\n",
       "    </tr>\n",
       "    <tr>\n",
       "      <th>2</th>\n",
       "      <td>8</td>\n",
       "      <td>0</td>\n",
       "      <td>0</td>\n",
       "    </tr>\n",
       "    <tr>\n",
       "      <th>3</th>\n",
       "      <td>2</td>\n",
       "      <td>0</td>\n",
       "      <td>0</td>\n",
       "    </tr>\n",
       "    <tr>\n",
       "      <th>4</th>\n",
       "      <td>3</td>\n",
       "      <td>0</td>\n",
       "      <td>0</td>\n",
       "    </tr>\n",
       "    <tr>\n",
       "      <th>...</th>\n",
       "      <td>...</td>\n",
       "      <td>...</td>\n",
       "      <td>...</td>\n",
       "    </tr>\n",
       "    <tr>\n",
       "      <th>96</th>\n",
       "      <td>0</td>\n",
       "      <td>2</td>\n",
       "      <td>0</td>\n",
       "    </tr>\n",
       "    <tr>\n",
       "      <th>97</th>\n",
       "      <td>0</td>\n",
       "      <td>1</td>\n",
       "      <td>0</td>\n",
       "    </tr>\n",
       "    <tr>\n",
       "      <th>98</th>\n",
       "      <td>0</td>\n",
       "      <td>2</td>\n",
       "      <td>1</td>\n",
       "    </tr>\n",
       "    <tr>\n",
       "      <th>99</th>\n",
       "      <td>0</td>\n",
       "      <td>1</td>\n",
       "      <td>0</td>\n",
       "    </tr>\n",
       "    <tr>\n",
       "      <th>100</th>\n",
       "      <td>0</td>\n",
       "      <td>6</td>\n",
       "      <td>0</td>\n",
       "    </tr>\n",
       "  </tbody>\n",
       "</table>\n",
       "<p>82 rows × 3 columns</p>\n",
       "</div>"
      ],
      "text/plain": [
       "Cluster      0  1  2\n",
       "raisedhands         \n",
       "0            9  0  0\n",
       "1            2  0  0\n",
       "2            8  0  0\n",
       "3            2  0  0\n",
       "4            3  0  0\n",
       "...         .. .. ..\n",
       "96           0  2  0\n",
       "97           0  1  0\n",
       "98           0  2  1\n",
       "99           0  1  0\n",
       "100          0  6  0\n",
       "\n",
       "[82 rows x 3 columns]"
      ]
     },
     "execution_count": 43,
     "metadata": {},
     "output_type": "execute_result"
    }
   ],
   "source": [
    "pd.crosstab(columns = df_class['Cluster'], index = df_class['raisedhands'])\n"
   ]
  },
  {
   "cell_type": "code",
   "execution_count": null,
   "id": "4c702270-c34d-4173-ad73-969c56e75fbc",
   "metadata": {},
   "outputs": [],
   "source": []
  }
 ],
 "metadata": {
  "kernelspec": {
   "display_name": "Python 3 (Intel® oneAPI 2023.2)",
   "language": "python",
   "name": "c009-intel_distribution_of_python_3_oneapi-beta05-python"
  },
  "language_info": {
   "codemirror_mode": {
    "name": "ipython",
    "version": 3
   },
   "file_extension": ".py",
   "mimetype": "text/x-python",
   "name": "python",
   "nbconvert_exporter": "python",
   "pygments_lexer": "ipython3",
   "version": "3.9.16"
  }
 },
 "nbformat": 4,
 "nbformat_minor": 5
}
